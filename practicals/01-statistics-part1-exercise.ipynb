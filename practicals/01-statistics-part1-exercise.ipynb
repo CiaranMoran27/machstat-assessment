{
 "cells": [
  {
   "cell_type": "markdown",
   "id": "973d00f2",
   "metadata": {},
   "source": [
    "<h1 style=\"color: #001a79;\">Lady Tasting Tea Problem:</h1>\n",
    "<h2 style=\"color: #001a79;\">Statistics Exercise 1.1</h2>\n",
    "\n",
    "<hr style=\"border-top: 1px solid #001a79;\" />\n",
    "\n",
    "<h4> Calculate the minimum number of cups of tea required to ensure the probability of randomly selecting the correct cups<br>\n",
    "    is less than or equal to 1%. <h4>"
   ]
  },
  {
   "cell_type": "markdown",
   "id": "f795b2ec-baf2-409a-8779-b706b1b9b246",
   "metadata": {},
   "source": [
    "<b>Pre-Exercise:<b>"
   ]
  },
  {
   "cell_type": "code",
   "execution_count": 1,
   "id": "bf0e9550",
   "metadata": {},
   "outputs": [],
   "source": [
    "# Math module\n",
    "import math"
   ]
  },
  {
   "cell_type": "markdown",
   "id": "60936819",
   "metadata": {},
   "source": [
    "The following was adapted from https://stackoverflow.com/a/4941932."
   ]
  },
  {
   "cell_type": "code",
   "execution_count": 2,
   "id": "01afcd78-6f5e-49f0-906a-f2ddbc6e7148",
   "metadata": {},
   "outputs": [
    {
     "data": {
      "text/plain": [
       "70"
      ]
     },
     "execution_count": 2,
     "metadata": {},
     "output_type": "execute_result"
    }
   ],
   "source": [
    "# Original Problem:\n",
    "# Number of ways of selecting 4 cups from 8 (i.e: 8 choose 4)\n",
    "num_combinations = math.comb(8, 4)\n",
    "num_combinations"
   ]
  },
  {
   "cell_type": "code",
   "execution_count": 3,
   "id": "ca8c9d14",
   "metadata": {},
   "outputs": [
    {
     "data": {
      "text/plain": [
       "0.01429"
      ]
     },
     "execution_count": 3,
     "metadata": {},
     "output_type": "execute_result"
    }
   ],
   "source": [
    "# Probability of randomly selecting 4 correct cups when we dont take \n",
    "# order into consideration\n",
    "probability = 1.0 / num_combinations\n",
    "round(probability, 5)"
   ]
  },
  {
   "cell_type": "markdown",
   "id": "4b8db565-0e4e-483b-a61d-455fb69c0239",
   "metadata": {},
   "source": [
    "\n",
    "<br>\n",
    "\n",
    "<b>Main Exercise:<b>"
   ]
  },
  {
   "cell_type": "markdown",
   "id": "d02ca421",
   "metadata": {},
   "source": [
    "As shown above, when the experiment is conducted with 8 cups total (4 with milk first and 4 with tea first) there is roughly 1.4% chance of randomly<br>\n",
    "selecting the 8 cups correctly. In the interest lowering this probablity to 1% lets adds 1 more cup into the mix."
   ]
  },
  {
   "cell_type": "code",
   "execution_count": 4,
   "id": "dc894981-3caf-402c-ae04-5e82aca287c5",
   "metadata": {},
   "outputs": [
    {
     "name": "stdout",
     "output_type": "stream",
     "text": [
      "Number of combinations:  126\n",
      "Probability: 0.00794\n"
     ]
    }
   ],
   "source": [
    "# Number of ways of selecting 4 cups from 9\n",
    "num_combinations = math.comb(9, 4)\n",
    "\n",
    "# Probability of randomly selecting correct cups is:\n",
    "probability = 1.0 / num_combinations\n",
    "\n",
    "print(\"Number of combinations:  {}\".format(num_combinations))\n",
    "print(\"Probability: {}\".format(round(probability, 5)))"
   ]
  },
  {
   "cell_type": "markdown",
   "id": "8746e826-fe82-4b69-845a-7f4de45c753f",
   "metadata": {},
   "source": [
    "\n",
    "<br>\n",
    "\n",
    "Now we see the probability at roughly 0.79%. The reduced probability can be attributed to the higher number of combinations available for selection<br>\n",
    "in the experiment, going from 70 (8 total cups) to 126 (9 total cups)."
   ]
  },
  {
   "cell_type": "code",
   "execution_count": 5,
   "id": "87f28775",
   "metadata": {},
   "outputs": [
    {
     "name": "stdout",
     "output_type": "stream",
     "text": [
      "Number of combinations:  210\n",
      "Probability: 0.00476\n"
     ]
    }
   ],
   "source": [
    "# Number of ways of selecting 4 cups from 10\n",
    "num_combinations = math.comb(10, 4)\n",
    "\n",
    "# Probability of randomly selecting correct cups is:\n",
    "probability = 1.0 / num_combinations\n",
    "\n",
    "print(\"Number of combinations:  {}\".format(num_combinations))\n",
    "print(\"Probability: {}\".format(round(probability, 5)))"
   ]
  },
  {
   "cell_type": "markdown",
   "id": "3120fff5-40a7-4dc3-8e8a-661da2dd6360",
   "metadata": {},
   "source": [
    "\n",
    "<br>\n",
    "\n",
    "**Answer:**<br>\n",
    "From the results above we can conclude that a total of 10 cups deviates the probability of selecting the correct cups further away from 1% target.<br>\n",
    "An experiment with a total of 9 cups best alligns the probabilty of randomly selecting the correct cups based on the exercise criteria."
   ]
  },
  {
   "cell_type": "markdown",
   "id": "ba59a408",
   "metadata": {},
   "source": [
    "  \n",
    " <br> \n",
    " \n",
    " <b> Bonus Question : How many would be required if you were to let the taster get one cup wrong while maintaining the 1% threshold? <b>  \n",
    "*** "
   ]
  },
  {
   "cell_type": "markdown",
   "id": "a76f2961-2851-4597-9d71-b956726684cf",
   "metadata": {},
   "source": [
    "Lets explore the discrete distribution when selecting 4 cups from 8.\n"
   ]
  },
  {
   "cell_type": "code",
   "execution_count": 6,
   "id": "585788f0-378e-43f9-a72f-63563f9cb42d",
   "metadata": {},
   "outputs": [],
   "source": [
    "import random            # random selection module    \n",
    "import seaborn as sns    # plotting module\n",
    "import itertools         # module that can generate combinations"
   ]
  },
  {
   "cell_type": "code",
   "execution_count": 7,
   "id": "41d7eb1e-facf-4aef-832d-401bb0abeeed",
   "metadata": {},
   "outputs": [
    {
     "data": {
      "text/plain": [
       "[0, 1, 2, 3, 4, 5, 6, 7]"
      ]
     },
     "execution_count": 7,
     "metadata": {},
     "output_type": "execute_result"
    }
   ],
   "source": [
    "cup_list = list(range(8))\n",
    "cup_list"
   ]
  },
  {
   "cell_type": "code",
   "execution_count": 8,
   "id": "31031bdc-2397-482f-a97a-1b8ea1b474f3",
   "metadata": {},
   "outputs": [
    {
     "name": "stdout",
     "output_type": "stream",
     "text": [
      "Number of combinations in list: 70\n",
      "Selection Combination:  {0, 1, 4, 7}\n"
     ]
    }
   ],
   "source": [
    "comb_list = list(itertools.combinations(cup_list, 4))\n",
    "print(\"Number of combinations in list: {}\".format(len(comb_list)))\n",
    "\n",
    "\n",
    "# Pick a random selection from the list of 70 to simulate the experiment.\n",
    "# Store selection as a set: this datastructure doesnt care about order.... reference \n",
    "        # used when you dont care about order (i.e: 0 1 2 3   =  3 2 1 0)\n",
    "        # dont have order or keep count\n",
    "        # have unique values \n",
    "        \n",
    "selection = set(random.choice(comb_list))\n",
    "print(\"Selection Combination:  {}\".format(selection))"
   ]
  },
  {
   "cell_type": "code",
   "execution_count": 9,
   "id": "e80ba317-54da-4bed-850a-fddcdb306ef2",
   "metadata": {},
   "outputs": [
    {
     "data": {
      "image/png": "[encoded data removed]",
      "text/plain": [
       "<Figure size 640x480 with 1 Axes>"
      ]
     },
     "metadata": {},
     "output_type": "display_data"
    }
   ],
   "source": [
    "# iterate all possible 70 combinations \n",
    "# get intersection between 4 correct cups (selection) and all combinations\n",
    "    # leverage set datastructure so that an overlap does not care about order.. e.g {1,2,3,4} = {4,2,3,1}\n",
    "counts = [len(selection & set(i)) for i in itertools.combinations(cup_list, 4)]\n",
    "\n",
    "# plot with labels\n",
    "ax = sns.countplot(x=counts)\n",
    "ax.set(xlabel='Number correct cups', ylabel='Count \\n(number of set overlaps)')\n",
    "ax.set(title='Plot 1')\n",
    "ax.bar_label(ax.containers[0]);"
   ]
  },
  {
   "cell_type": "markdown",
   "id": "af6f410a-3e86-4507-8954-926080031dd9",
   "metadata": {},
   "source": [
    "When looking at plot 1 it becomes more obvious how to deal with the bonus question. When allowing one in-correct cup selection one must sum the<br>\n",
    "count at 3 correct and 4 correct cups to account for both scenarios. This total of 17 is then divided by 70 (total number of combinations) to yield a <br>\n",
    "probability of roughly 0.24 (24%). When accepting the null hyphotheis for this problem, i.e: the results are due to random chance, allowing one wrong<br>\n",
    "cup selection has alomost a 1 in 4 chance of sucessfully guessing the correct selection.<br>\n",
    "\n",
    "Back to the problem, lets alter the experiment by increasing the total number of cups of tea while tracking the count overlap to allow for one in-correct<br>\n",
    "selection. The total number of cups will be increased while the number of type A (milk in first) will be half (via floor divison) of the total."
   ]
  },
  {
   "cell_type": "code",
   "execution_count": 10,
   "id": "e0657954-5057-4084-9496-9b12adfe6ed4",
   "metadata": {},
   "outputs": [],
   "source": [
    "dictFotPlot = {\n",
    "   'totalnum_cups_choose_n' : [],\n",
    "   'probability' : [],\n",
    "}\n",
    "\n",
    "# iterate from 8 to a larger value of total num of cups\n",
    "for total_num_cups in range(8, 17):\n",
    "\n",
    "    # declare number of cup type A (e.g milk in first) as half the total\n",
    "    # notice use of floor division operator\n",
    "    num_cup_type_a = total_num_cups // 2\n",
    "    \n",
    "    cup_list = list(range(total_num_cups))\n",
    "    comb_list = list(itertools.combinations(cup_list, num_cup_type_a))\n",
    "\n",
    "    selection = set(random.choice(comb_list))\n",
    "    \n",
    "    # get intersection between correct cups (selection) and all combinations\n",
    "    counts_all = [len(selection & set(i)) for i in itertools.combinations(cup_list, num_cup_type_a)]\n",
    "     \n",
    "    # sum all counts on max number of cups & max - 1 (allows for 1 wrong selection)\n",
    "    overlap = counts_all.count(num_cup_type_a) + counts_all.count(num_cup_type_a - 1 )\n",
    "\n",
    "    # calculate probabilities\n",
    "    probability = overlap / len(comb_list)\n",
    "    \n",
    "    # append probability and total cup data to dict\n",
    "    dictFotPlot['totalnum_cups_choose_n'].append(\"({}/{})\".format(total_num_cups, num_cup_type_a))\n",
    "    dictFotPlot['probability'].append(probability)"
   ]
  },
  {
   "cell_type": "code",
   "execution_count": 11,
   "id": "e5a4452e-3506-44ad-a756-198807c7fa16",
   "metadata": {},
   "outputs": [
    {
     "name": "stdout",
     "output_type": "stream",
     "text": [
      "Probablity of 1% of maintained when nTotalCups choose nselectedSelected = (15/7)\n"
     ]
    }
   ],
   "source": [
    "# iterate the idx position and val of probability array of dictFotPlot dict\n",
    "for idx, prob in enumerate(dictFotPlot['probability']):\n",
    "    if prob <= 0.01:\n",
    "        # store the total_num_cups associated with the probability\n",
    "        answer = dictFotPlot['totalnum_cups_choose_n'][idx]\n",
    "        # stop iterating when val meets criteria\n",
    "        break  \n",
    " \n",
    "print(\"Probablity of 1% of maintained when nTotalCups choose nselectedSelected = {}\".format(answer))"
   ]
  },
  {
   "cell_type": "code",
   "execution_count": 12,
   "id": "ccde469f-b975-4dc4-8595-29b2033d11bc",
   "metadata": {},
   "outputs": [
    {
     "data": {
      "image/png": "[encoded data removed]",
      "text/plain": [
       "<Figure size 640x480 with 1 Axes>"
      ]
     },
     "metadata": {},
     "output_type": "display_data"
    }
   ],
   "source": [
    "# plot data\n",
    "ax = sns.barplot(data=dictFotPlot, x='totalnum_cups_choose_n', y='probability')\n",
    "ax.set(xlabel='(Total number of cups / number of cups selected)', ylabel='Probability')\n",
    "ax.set(title='Plot 2')\n",
    "\n",
    "# plot label code adapted from https://stackoverflow.com/a/47718154\n",
    "# iterate idx and vals of x axis labels\n",
    "for i, text in enumerate(ax.get_xticklabels()):\n",
    "    # if text equals total number of cups assocated with <1% prob\n",
    "    if text.get_text() == str(answer):   \n",
    "        # apply label\n",
    "        ax.annotate(\"closest to 1% \\nprobability\",(i, ax.patches[i].get_height()), \n",
    "                    xytext=(0,30), textcoords='offset points', ha=\"center\",\n",
    "                    arrowprops=dict(facecolor='black', shrink=0.05))"
   ]
  },
  {
   "cell_type": "markdown",
   "id": "628dccb6-c306-4e10-b91d-59cc1fcb816f",
   "metadata": {},
   "source": [
    "<h2 style=\"color: #001a79;\">Exercise 1.2</h2>\n",
    "\n",
    "<hr style=\"border-top: 1px solid #001a79;\" />\n",
    "\n",
    "\n",
    "Use <a href=\"https://docs.scipy.org/doc/scipy/reference/generated/scipy.stats.fisher_exact.html\" style=\"color: #ff791e\">scipy's version of Fisher's exact test</a> to simulate the Lady Tasting Tea problem.\n"
   ]
  },
  {
   "cell_type": "markdown",
   "id": "01466f9a-b8f2-4ec8-910a-5ddda84032d3",
   "metadata": {},
   "source": [
    "### Fisher's Problem Statement:\n",
    "A lady declares that by tasting a cup of tea made with milk she can discriminate whether the milk or the tea infusion was first added to the cup: We will consider the problem of designing an experiment by means of which this assertion can be tested. For this purpose let us first lay down a simple form of experiment with a view to studying its limitations and its characteristics, both those which appear to be essential to the experimental method, when well developed, and those which are not essential but auxiliary.\n",
    "\n",
    "Our experiment consists in mixing eight cups of tea, four in one way and four in the other, and presenting them to the subject for judgment in a random order. The subject has been told in advance of what the test will consist, namely that she will be asked to taste eight cups, that these shall be four of each kind, and that they shall be presented to her in a random order, that is in an order not determined arbitrarily by human choice, but by the actual manipulation of the physical apparatus used in games of chance, cards, dice, roulettes, etc., or, more expeditiously, from a published collection of random sampling numbers purporting to give the actual results of such manipulation. Her task is to divide the 8 cups into two sets of 4, agreeing, if possible, with the treatments received."
   ]
  },
  {
   "cell_type": "markdown",
   "id": "dc3d275c-1d66-40b1-829f-a21d66232416",
   "metadata": {},
   "source": [
    "### Documentation:"
   ]
  },
  {
   "cell_type": "markdown",
   "id": "79f220f7-0dc6-4e9f-ae02-f7340b19eed7",
   "metadata": {},
   "source": [
    "Function: *scipy.stats.fisher_exact(table, alternative='two-sided')*<br>"
   ]
  },
  {
   "cell_type": "markdown",
   "id": "8f9940dd-0e91-40bd-a7ab-c0da6ad31bdf",
   "metadata": {},
   "source": [
    "**Passed arguments:**\n",
    "- 2x2 Contingency Table (non-negative integers): allows you to summarize categorical data.\n",
    "- alternative = 'two-sided', 'greater' or 'less'. This will be explored later...\n",
    "         \n",
    "    <br>\n",
    "\n",
    "Lets explore the functions return values (odds ratio and p-value) followed by the alternative parameter:\n",
    "- **Odds ratio:** <br>\n",
    "Measures how many times more positive cases occur relative to negative cases [2]. In relation to the Tea Tasting Problem it measures how many times the lady selects the correct cup type relative to the in-correct cup type, with a value of 1 showing no difference and a positive value showing more correct selections than in-correct (visa-versa for negative odds ratio).\n",
    "\n",
    "\n",
    "\n",
    "- **p-value**:<br>\n",
    "This probability value describes how likely an outcome is assuming the null hypothesis is true or in other words how likely a result is if you are confident that the results are not due to \"lucky sampling\". Lee (2019) adds to this by detailing how lower p-values (typically <0.05) describe rarer events and add to<br>\n",
    "one's notion that the experimental results are statistically significant (not random), leading to a rejection of the null hypothesis. Following the rejection of the null hypothesis one can considered an alternative hypothesis and further investigate what they suspect to be true. <br><br>\n",
    "- **\"alternative\" arguement:**<br>\n",
    "How this arguement is declared dictates how the p-value is calculated. To help explain this lets leverage scipy library to model the experiment as a hyper-geometric distrubiton (Plot 3 below). This is appropriate as the model's data is discrete, each selection has a binary result and selected tea samples are not replaced, to add to this Fishers Exact Test assumes that the input table is from a hypergeometric distirbution [3].<br>\n",
    "As described by the documentation, under the null hypothesis the two-sided p-values represent the probabilities that a random table would have a probability equal to or less than the probability of the input table. Plot 3 below shows the probability values of selecting 0 correct cups to 4correct cups. A two-sided p-value test on a scenario where all cups were selected correctly would return the sum of all probability values in both directions where p ≤ 0.0143 (i.e: 0.0143 @x=0 + 0.0143 @x=4 = 0.0286). One can also perform one-pair tests on the same scenario where the \"greater\" alternative declaration would sum the probability from position 4 to the end of the tail distribution, however in this case position 4 is the tail end so the result would be 0.0143. The \"less\" declaration works the same as the \"greater\" but moves from right to left.\n"
   ]
  },
  {
   "cell_type": "code",
   "execution_count": 13,
   "id": "a013e73b",
   "metadata": {},
   "outputs": [
    {
     "data": {
      "image/png": "[encoded data removed]",
      "text/plain": [
       "<Figure size 640x480 with 1 Axes>"
      ]
     },
     "metadata": {},
     "output_type": "display_data"
    }
   ],
   "source": [
    "##### code adapted from documentation (declared above)\n",
    "\n",
    "# import module to model hypergeometric distrubtion\n",
    "from scipy.stats import hypergeom\n",
    "# import module to generate arrays\n",
    "import numpy as np\n",
    "\n",
    "# declare input variables\n",
    "[numcups_total, numcups_type_a, num_selections] = [8, 4, 4]\n",
    "\n",
    "# instansiate hypergeom object \n",
    "obj = hypergeom(numcups_total, numcups_type_a, num_selections)\n",
    "\n",
    "# declare numpy array of required integer range and pass to prob mass function\n",
    "x_range = np.arange(0, numcups_type_a + 1)\n",
    "probabilities = obj.pmf(x_range)\n",
    "\n",
    "# plot results\n",
    "data = {\"num_correct_cups\" : x_range, \"probability\": probabilities}\n",
    "ax = sns.barplot(data = data , x = 'num_correct_cups', y = 'probability')\n",
    "ax.set(xlabel = list(data.keys())[0], ylabel = list(data.keys())[1])\n",
    "ax.bar_label(ax.containers[0])\n",
    "ax.set(title ='Plot 3: Hypergeometric Distribution');"
   ]
  },
  {
   "cell_type": "markdown",
   "id": "b2bb5bbe-a999-484c-adfe-e49e51b149c8",
   "metadata": {},
   "source": [
    "\n",
    "<br>\n",
    "\n",
    "### Experiment\n",
    "**Null Hypothesis:** The Lady can't tell the difference between the two different tea types (milk in first & tea in first).<br>\n",
    "**Alternative Hypothesis:** The Lady can tell the difference between the two different tea types. <br><br>\n",
    "**Test Type:** As we are interested in p-values in one direction along the hypergeometric distribution.<br>\n",
    "**Statistically significance:** p-value ≤ 0.05.\n",
    "\n",
    "<br>\n",
    "    \n",
    "**Contingency Table:**\n",
    "- Scenario 1: The lady select all cups correctly (8/8).<br>\n",
    "- Scenario 2: The lady select 6 cups correctly (6/8)."
   ]
  },
  {
   "cell_type": "code",
   "execution_count": 14,
   "id": "71054e7e-608a-4339-aebd-471db6a24159",
   "metadata": {},
   "outputs": [
    {
     "data": {
      "text/html": [
       "<style>\n",
       "table {float:left}\n",
       "</style>\n"
      ],
      "text/plain": [
       "<IPython.core.display.HTML object>"
      ]
     },
     "metadata": {},
     "output_type": "display_data"
    }
   ],
   "source": [
    "%%html \n",
    "<style>\n",
    "table {float:left}\n",
    "</style>"
   ]
  },
  {
   "cell_type": "markdown",
   "id": "012940b5-79a6-4c35-a2a2-c20400483f7e",
   "metadata": {},
   "source": [
    "\n",
    "| Scenario |  | milkLady | teaLady | Sum |\n",
    "| :---: | :---: | :---: | :---: |:---: |\n",
    "| S1  | milkActual | 4 | 0 | 4 |\n",
    "| S1  | teaActual | 0 | 4 | 4 |\n",
    "| S1  | Sum | 4 | 4 | 8 |\n",
    "|     |  |   |   |   |\n",
    "| S2 | milkActual | 3 | 1 | 4 |\n",
    "| S2 | teaActual | 1 | 3 | 4 |\n",
    "| S2 | Sum | 4 | 4 | 8 |\n"
   ]
  },
  {
   "cell_type": "code",
   "execution_count": 15,
   "id": "c70f61ef-15db-484d-8337-5e9b54911337",
   "metadata": {},
   "outputs": [
    {
     "name": "stdout",
     "output_type": "stream",
     "text": [
      "Scenario 1 odds ratio can't be calculated conventionally\n",
      "Scenario 2 odds ratio = 9.0\n"
     ]
    }
   ],
   "source": [
    "# manually calculate odds ratio's\n",
    "\n",
    "# scenario 1, all cups correct\n",
    "s1_table = np.array([[4, 0], [0, 4]])   \n",
    "print(\"Scenario 1 odds ratio can't be calculated conventionally\")\n",
    "\n",
    "# scenario 2, 3 cups correct\n",
    "s2_table = np.array([[3, 1], [1, 3]])\n",
    "\n",
    "# calculate odds ratio for scenario 2\n",
    "s2_odds_ratio = (s2_table[0][0] / s2_table[0][1]) / (s2_table[1][0] / s2_table[1][1]) \n",
    "print(\"Scenario 2 odds ratio = {}\".format(s2_odds_ratio))"
   ]
  },
  {
   "cell_type": "code",
   "execution_count": 16,
   "id": "e787dacf-42e5-4a92-8ea0-0365f5603ea5",
   "metadata": {},
   "outputs": [],
   "source": [
    "# import module to perform fisher exact test\n",
    "from scipy.stats import fisher_exact\n",
    "\n",
    "# import module for reproducing plot 1 stats above but this time as probabilities\n",
    "from scipy.stats import hypergeom\n",
    "\n",
    "def fisher_test(table, test_type):\n",
    "    '''calculates & prints odds ratio and p-value from passed 2x2 table and alternative \n",
    "    hypothesis parameter type'''\n",
    "    \n",
    "    table = np.array(table)             # convert table to numpy array\n",
    "    numcups_total = table.sum()         # sum all table vals\n",
    "    numcups_tea = table[0].sum()        # sum first row                           \n",
    "    num_selections = table[:, 0].sum()  # sum second row\n",
    "    \n",
    "    odds_ratio, pvalue = fisher_exact(table, alternative = test_type)\n",
    "    print(\"\\nalternative type: {}\\nOdds ratio = {},\\np-value = {}\"\n",
    "          .format(test_type, odds_ratio, round(pvalue, 5)))"
   ]
  },
  {
   "cell_type": "code",
   "execution_count": 17,
   "id": "c69d79d3-6a8b-4267-9f54-541efb0989cb",
   "metadata": {},
   "outputs": [
    {
     "name": "stdout",
     "output_type": "stream",
     "text": [
      "\n",
      "alternative type: two-sided\n",
      "Odds ratio = inf,\n",
      "p-value = 0.02857\n",
      "\n",
      "alternative type: less\n",
      "Odds ratio = inf,\n",
      "p-value = 1.0\n",
      "\n",
      "alternative type: greater\n",
      "Odds ratio = inf,\n",
      "p-value = 0.01429\n"
     ]
    }
   ],
   "source": [
    "# Scenario 1: explore all test types...\n",
    "alternative_options = ['two-sided', 'less', 'greater']\n",
    "for test_type in alternative_options:\n",
    "    fisher_test(s1_table, test_type)"
   ]
  },
  {
   "cell_type": "code",
   "execution_count": 18,
   "id": "bb990cf1-727b-4d49-b14b-2379450092a8",
   "metadata": {},
   "outputs": [
    {
     "name": "stdout",
     "output_type": "stream",
     "text": [
      "\n",
      "alternative type: greater\n",
      "Odds ratio = 9.0,\n",
      "p-value = 0.24286\n"
     ]
    }
   ],
   "source": [
    "# Scenario 2:\n",
    "fisher_test(s2_table, 'greater')"
   ]
  },
  {
   "cell_type": "markdown",
   "id": "15c110aa-f5ae-4fde-9a86-d987bfc4eaf3",
   "metadata": {},
   "source": [
    "\n",
    "<br>\n",
    "\n",
    "### Discussion:\n",
    "#### Scenario 1 (all cups correct)\n",
    "\n",
    "Odds ratio value of infinity shows there is a high level of assocation or dependancy between the first sub-array (row1) one and second sub-array (two). This makes sense as there is 100% overlap with the lady's selection of tea type and the actual tea type. The infinite odds ratio justifies selecting the \"greater\" one-tailed test as positive odd ratio's describe scenario's where the lady guesses more correct than in-correct. As per calculation above the resulting p-value for this method = 0.01429 and therefore we can reject the null hypothesis as the p ≤ 0.05. This scenario provides good evidence Lady can tell the difference between the different tea types, with only a probability of 1.4% for event occurance.\n",
    "\n",
    "#### Scenario 2 (3 cups correct)\n",
    "The positive odds ratio of 9.0 justifies selecting the \"greater\" one-tailed test. As per calculation above the resulting p-value for this method = 0.24286 and therefore we fail to reject the null hypothesis as p > 0.05. This scenario leaves the question open that the Lady may not be able to tell the difference between the difference tea types. This scenario is not a good test as one would have a 24.3% chance of selecting 3 cups correctly.\n"
   ]
  },
  {
   "cell_type": "markdown",
   "id": "a0cd13cd-8fb0-42de-bc80-095907c7a493",
   "metadata": {},
   "source": [
    "\n",
    "<br>\n",
    "\n",
    "<h3>References (Exercise 1.2):</h3>\n",
    "\n",
    "\n",
    "[1]. Cansiz, S, 2020, Interpretation of Odds Ratio and Fisher’s Exact Test, towards data science, available at:\n",
    "[Ref Link](https://towardsdatascience.com/interpretation-of-odds-ratio-and-fishers-exact-test-c6dde394d204) (Viewed 08 October 2022).\n",
    "\n",
    "[2]. Lee, A, 2019, P-values Explained By Data Scientist, towards data science, available at:\n",
    "[Ref Link](https://towardsdatascience.com/p-values-explained-by-data-scientist-f40a746cfc8) (Viewed 09 October 2022).\n",
    "\n",
    "[3]. Röhrich, G, 2020,Intro to Fisher’s Exact and the Hypergeometric Distribution, towards data science, available at:\n",
    "[Ref Link](https://towardsdatascience.com/fishers-exact-fb49432e55b5#9a77) (Viewed 09 October 2022)."
   ]
  },
  {
   "cell_type": "markdown",
   "id": "1dc3b21f-e8c2-4430-9abe-0859b7ee0b11",
   "metadata": {},
   "source": [
    "<hr style=\"border-top: 1px solid #001a79;\" />"
   ]
  }
 ],
 "metadata": {
  "kernelspec": {
   "display_name": "Python 3 (ipykernel)",
   "language": "python",
   "name": "python3"
  },
  "language_info": {
   "codemirror_mode": {
    "name": "ipython",
    "version": 3
   },
   "file_extension": ".py",
   "mimetype": "text/x-python",
   "name": "python",
   "nbconvert_exporter": "python",
   "pygments_lexer": "ipython3",
   "version": "3.8.8"
  }
 },
 "nbformat": 4,
 "nbformat_minor": 5
}
