{
 "cells": [
  {
   "cell_type": "markdown",
   "id": "973d00f2",
   "metadata": {},
   "source": [
    "<h1 style=\"color: #001a79;\">Lady Tasting Tea Problem:</h1>\n",
    "<h2 style=\"color: #001a79;\">Exercise 1.1</h2>\n",
    "\n",
    "<hr style=\"border-top: 1px solid #001a79;\" />\n",
    "\n",
    "<h4> Calculate the minimum number of cups of tea required to ensure the probability of randomly selecting<br>\n",
    "    the correct cups is less than or equal to 1%. <h4>"
   ]
  },
  {
   "cell_type": "markdown",
   "id": "f795b2ec-baf2-409a-8779-b706b1b9b246",
   "metadata": {},
   "source": [
    "<b>Pre-Exercise:<b>"
   ]
  },
  {
   "cell_type": "code",
   "execution_count": 1,
   "id": "bf0e9550",
   "metadata": {},
   "outputs": [],
   "source": [
    "# Math module\n",
    "import math"
   ]
  },
  {
   "cell_type": "markdown",
   "id": "60936819",
   "metadata": {},
   "source": [
    "The following was adapted from https://stackoverflow.com/a/4941932."
   ]
  },
  {
   "cell_type": "code",
   "execution_count": 2,
   "id": "01afcd78-6f5e-49f0-906a-f2ddbc6e7148",
   "metadata": {},
   "outputs": [
    {
     "data": {
      "text/plain": [
       "70"
      ]
     },
     "execution_count": 2,
     "metadata": {},
     "output_type": "execute_result"
    }
   ],
   "source": [
    "# Original Problem:\n",
    "# Number of ways of selecting 4 cups from 8 (i.e: 8 choose 4)\n",
    "num_combinations = math.comb(8, 4)\n",
    "num_combinations"
   ]
  },
  {
   "cell_type": "code",
   "execution_count": 3,
   "id": "ca8c9d14",
   "metadata": {},
   "outputs": [
    {
     "data": {
      "text/plain": [
       "0.01429"
      ]
     },
     "execution_count": 3,
     "metadata": {},
     "output_type": "execute_result"
    }
   ],
   "source": [
    "# Probability of randomly selecting 4 correct cups when we dont take \n",
    "# order into consideration\n",
    "probability = 1.0 / num_combinations\n",
    "round(probability, 5)"
   ]
  },
  {
   "cell_type": "markdown",
   "id": "4b8db565-0e4e-483b-a61d-455fb69c0239",
   "metadata": {},
   "source": [
    "\n",
    "<br>\n",
    "\n",
    "<b>Main Exercise:<b>"
   ]
  },
  {
   "cell_type": "markdown",
   "id": "d02ca421",
   "metadata": {},
   "source": [
    "As shown above, when the experiment is conducted with 8 cups total (4 with milk first and 4 with tea first) there is roughly 1.4%<br>\n",
    "chance of randomly selecting the 8 cups correctly. In the interest lowering this probablity to 1% lets adds 1 more cup into the mix."
   ]
  },
  {
   "cell_type": "code",
   "execution_count": 4,
   "id": "dc894981-3caf-402c-ae04-5e82aca287c5",
   "metadata": {},
   "outputs": [
    {
     "name": "stdout",
     "output_type": "stream",
     "text": [
      "Number of combinations:  126\n",
      "Probability: 0.00794\n"
     ]
    }
   ],
   "source": [
    "# Number of ways of selecting 4 cups from 9\n",
    "num_combinations = math.comb(9, 4)\n",
    "\n",
    "# Probability of randomly selecting correct cups is:\n",
    "probability = 1.0 / num_combinations\n",
    "\n",
    "print(\"Number of combinations:  {}\".format(num_combinations))\n",
    "print(\"Probability: {}\".format(round(probability, 5)))"
   ]
  },
  {
   "cell_type": "markdown",
   "id": "8746e826-fe82-4b69-845a-7f4de45c753f",
   "metadata": {},
   "source": [
    "\n",
    "<br>\n",
    "\n",
    "Now we see the probability at roughly 0.79%. The reduced probability can be attributed to the higher number of combinations<br>\n",
    "available for selection in the experiment, going from 70 (8 total cups) to 126 (9 total cups)."
   ]
  },
  {
   "cell_type": "code",
   "execution_count": 5,
   "id": "87f28775",
   "metadata": {},
   "outputs": [
    {
     "name": "stdout",
     "output_type": "stream",
     "text": [
      "Number of combinations:  210\n",
      "Probability: 0.00476\n"
     ]
    }
   ],
   "source": [
    "# Number of ways of selecting 4 cups from 10\n",
    "num_combinations = math.comb(10, 4)\n",
    "\n",
    "# Probability of randomly selecting correct cups is:\n",
    "probability = 1.0 / num_combinations\n",
    "\n",
    "print(\"Number of combinations:  {}\".format(num_combinations))\n",
    "print(\"Probability: {}\".format(round(probability, 5)))"
   ]
  },
  {
   "cell_type": "markdown",
   "id": "3120fff5-40a7-4dc3-8e8a-661da2dd6360",
   "metadata": {},
   "source": [
    "\n",
    "<br>\n",
    "\n",
    "**Answer:**<br>\n",
    "From the results above we can conclude that a total of 10 cups deviates the probability of selecting the correct cups further<br>\n",
    "away from 1% target. An experiment with a total of 9 cups best alligns the probabilty of randomly selecting the correct cups<br>\n",
    "based on the exercise criteria."
   ]
  },
  {
   "cell_type": "markdown",
   "id": "ba59a408",
   "metadata": {},
   "source": [
    "\n",
    " <br>\n",
    " \n",
    " <h4> Bonus: How many would be required if you were to let the taster get one cup wrong while maintaining the 1% threshold? <h4>"
   ]
  }
 ],
 "metadata": {
  "kernelspec": {
   "display_name": "Python 3 (ipykernel)",
   "language": "python",
   "name": "python3"
  },
  "language_info": {
   "codemirror_mode": {
    "name": "ipython",
    "version": 3
   },
   "file_extension": ".py",
   "mimetype": "text/x-python",
   "name": "python",
   "nbconvert_exporter": "python",
   "pygments_lexer": "ipython3",
   "version": "3.8.8"
  }
 },
 "nbformat": 4,
 "nbformat_minor": 5
}
