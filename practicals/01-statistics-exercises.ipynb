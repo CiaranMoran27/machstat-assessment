{
 "cells": [
  {
   "cell_type": "markdown",
   "id": "973d00f2",
   "metadata": {},
   "source": [
    "<h1 style=\"color: #001a79;\">Lady Tasting Tea Problem:</h1>\n",
    "<h2 style=\"color: #001a79;\">Exercise 1.1</h2>\n",
    "\n",
    "<hr style=\"border-top: 1px solid #001a79;\" />\n",
    "\n",
    "<h4> Calculate the minimum number of cups of tea required to ensure the probability of randomly selecting<br>\n",
    "    the correct cups is less than or equal to 1%. <h4>"
   ]
  },
  {
   "cell_type": "markdown",
   "id": "f795b2ec-baf2-409a-8779-b706b1b9b246",
   "metadata": {},
   "source": [
    "<b>Pre-Exercise:<b>"
   ]
  },
  {
   "cell_type": "code",
   "execution_count": 1,
   "id": "bf0e9550",
   "metadata": {},
   "outputs": [],
   "source": [
    "# Math module\n",
    "import math"
   ]
  },
  {
   "cell_type": "markdown",
   "id": "60936819",
   "metadata": {},
   "source": [
    "The following was adapted from https://stackoverflow.com/a/4941932."
   ]
  },
  {
   "cell_type": "code",
   "execution_count": 2,
   "id": "01afcd78-6f5e-49f0-906a-f2ddbc6e7148",
   "metadata": {},
   "outputs": [
    {
     "data": {
      "text/plain": [
       "70"
      ]
     },
     "execution_count": 2,
     "metadata": {},
     "output_type": "execute_result"
    }
   ],
   "source": [
    "# Original Problem:\n",
    "# Number of ways of selecting 4 cups from 8 (i.e: 8 choose 4)\n",
    "num_combinations = math.comb(8, 4)\n",
    "num_combinations"
   ]
  },
  {
   "cell_type": "code",
   "execution_count": 3,
   "id": "ca8c9d14",
   "metadata": {},
   "outputs": [
    {
     "data": {
      "text/plain": [
       "0.01429"
      ]
     },
     "execution_count": 3,
     "metadata": {},
     "output_type": "execute_result"
    }
   ],
   "source": [
    "# Probability of randomly selecting 4 correct cups when we dont take \n",
    "# order into consideration\n",
    "probability = 1.0 / num_combinations\n",
    "round(probability, 5)"
   ]
  },
  {
   "cell_type": "markdown",
   "id": "4b8db565-0e4e-483b-a61d-455fb69c0239",
   "metadata": {},
   "source": [
    "\n",
    "<br>\n",
    "\n",
    "<b>Main Exercise:<b>"
   ]
  },
  {
   "cell_type": "markdown",
   "id": "d02ca421",
   "metadata": {},
   "source": [
    "As shown above, when the experiment is conducted with 8 cups total (4 with milk first and 4 with tea first) there is roughly 1.4%<br>\n",
    "chance of randomly selecting the 8 cups correctly. In the interest lowering this probablity to 1% lets adds 1 more cup into the mix."
   ]
  },
  {
   "cell_type": "code",
   "execution_count": 4,
   "id": "dc894981-3caf-402c-ae04-5e82aca287c5",
   "metadata": {},
   "outputs": [
    {
     "name": "stdout",
     "output_type": "stream",
     "text": [
      "Number of combinations:  126\n",
      "Probability: 0.00794\n"
     ]
    }
   ],
   "source": [
    "# Number of ways of selecting 4 cups from 9\n",
    "num_combinations = math.comb(9, 4)\n",
    "\n",
    "# Probability of randomly selecting correct cups is:\n",
    "probability = 1.0 / num_combinations\n",
    "\n",
    "print(\"Number of combinations:  {}\".format(num_combinations))\n",
    "print(\"Probability: {}\".format(round(probability, 5)))"
   ]
  },
  {
   "cell_type": "markdown",
   "id": "8746e826-fe82-4b69-845a-7f4de45c753f",
   "metadata": {},
   "source": [
    "\n",
    "<br>\n",
    "\n",
    "Now we see the probability at roughly 0.79%. The reduced probability can be attributed to the higher number of combinations<br>\n",
    "available for selection in the experiment, going from 70 (8 total cups) to 126 (9 total cups)."
   ]
  },
  {
   "cell_type": "code",
   "execution_count": 5,
   "id": "87f28775",
   "metadata": {},
   "outputs": [
    {
     "name": "stdout",
     "output_type": "stream",
     "text": [
      "Number of combinations:  210\n",
      "Probability: 0.00476\n"
     ]
    }
   ],
   "source": [
    "# Number of ways of selecting 4 cups from 10\n",
    "num_combinations = math.comb(10, 4)\n",
    "\n",
    "# Probability of randomly selecting correct cups is:\n",
    "probability = 1.0 / num_combinations\n",
    "\n",
    "print(\"Number of combinations:  {}\".format(num_combinations))\n",
    "print(\"Probability: {}\".format(round(probability, 5)))"
   ]
  },
  {
   "cell_type": "markdown",
   "id": "3120fff5-40a7-4dc3-8e8a-661da2dd6360",
   "metadata": {},
   "source": [
    "\n",
    "<br>\n",
    "\n",
    "**Answer:**<br>\n",
    "From the results above we can conclude that a total of 10 cups deviates the probability of selecting the correct cups further<br>\n",
    "away from 1% target. An experiment with a total of 9 cups best alligns the probabilty of randomly selecting the correct cups<br>\n",
    "based on the exercise criteria."
   ]
  },
  {
   "cell_type": "markdown",
   "id": "ba59a408",
   "metadata": {},
   "source": [
    "  \n",
    " <br> \n",
    " \n",
    " <b> 1.1 Bonus Question : How many would be required if you were to let the taster get one cup wrong while maintaining the 1% threshold? <b>  \n",
    "*** "
   ]
  },
  {
   "cell_type": "markdown",
   "id": "a76f2961-2851-4597-9d71-b956726684cf",
   "metadata": {},
   "source": [
    "Lets explore the discrete distribution when selecting 4 cups from 8.\n"
   ]
  },
  {
   "cell_type": "code",
   "execution_count": 6,
   "id": "585788f0-378e-43f9-a72f-63563f9cb42d",
   "metadata": {},
   "outputs": [],
   "source": [
    "import random            # random selection module    \n",
    "import seaborn as sns    # plotting module\n",
    "import itertools         # module that can generate combinations"
   ]
  },
  {
   "cell_type": "code",
   "execution_count": 7,
   "id": "41d7eb1e-facf-4aef-832d-401bb0abeeed",
   "metadata": {},
   "outputs": [
    {
     "data": {
      "text/plain": [
       "[0, 1, 2, 3, 4, 5, 6, 7]"
      ]
     },
     "execution_count": 7,
     "metadata": {},
     "output_type": "execute_result"
    }
   ],
   "source": [
    "cup_list = list(range(8))\n",
    "cup_list"
   ]
  },
  {
   "cell_type": "code",
   "execution_count": 8,
   "id": "31031bdc-2397-482f-a97a-1b8ea1b474f3",
   "metadata": {},
   "outputs": [
    {
     "name": "stdout",
     "output_type": "stream",
     "text": [
      "Number of combinations in list: 70\n",
      "Selection Combination:  {0, 1, 2, 4}\n"
     ]
    }
   ],
   "source": [
    "comb_list = list(itertools.combinations(cup_list, 4))\n",
    "print(\"Number of combinations in list: {}\".format(len(comb_list)))\n",
    "\n",
    "\n",
    "# Pick a random selection from the list of 70 to simulate the experiment.\n",
    "# Store selection as a set: this datastructure doesnt care about order.... reference \n",
    "        # used when you dont care about order (i.e: 0 1 2 3   =  3 2 1 0)\n",
    "        # dont have order or keep count\n",
    "        # have unique values \n",
    "        \n",
    "selection = set(random.choice(comb_list))\n",
    "print(\"Selection Combination:  {}\".format(selection))"
   ]
  },
  {
   "cell_type": "code",
   "execution_count": 9,
   "id": "e80ba317-54da-4bed-850a-fddcdb306ef2",
   "metadata": {},
   "outputs": [
    {
     "data": {
      "image/png": "[encoded data removed]",
      "text/plain": [
       "<Figure size 640x480 with 1 Axes>"
      ]
     },
     "metadata": {},
     "output_type": "display_data"
    }
   ],
   "source": [
    "# iterate all possible 70 combinations \n",
    "# get intersection between 4 correct cups (selection) and all combinations\n",
    "    # leverage set datastructure so that an overlap does not care about order.. e.g {1,2,3,4} = {4,2,3,1}\n",
    "\n",
    "counts = [len(selection & set(i)) for i in itertools.combinations(cup_list, 4)]\n",
    "\n",
    "# plot with labels\n",
    "ax = sns.countplot(x=counts)\n",
    "ax.set(xlabel='Number correct cups', ylabel='Count \\n(number of set overlaps)')\n",
    "ax.set(title='Plot 1')\n",
    "ax.bar_label(ax.containers[0]);"
   ]
  },
  {
   "cell_type": "markdown",
   "id": "af6f410a-3e86-4507-8954-926080031dd9",
   "metadata": {},
   "source": [
    "When looking at plot 1 it becomes more obvious how to deal with the bonus question. When allowing one in-correct cup selection one must sum<br>\n",
    "the count at 3 correct and 4 correct cups to account for both scenarios. This total of 17 is then divided by 70 (total number of combinations) to<br>\n",
    "yield a probability of roughly 0.24 (24%). When accepting the null hyphotheis for this problem, i.e: the results are due to random chance, allowing<br>\n",
    "one wrong cup selection has alomost a 1 in 4 chance of sucessfully guessing the correct selection.<br>\n",
    "\n",
    "Back to the problem, lets alter the experiment by increasing the total number of cups of tea while tracking the count overlap to allow for one in-correct<br>\n",
    "selection. The number of cups of type A (milk in first) will remain at 4 and the number of cups of type B (tea in first) will equal the total number of cups<br>\n",
    "minus number of type A cups. In other words lets keep type A constant and increase the total number of cups."
   ]
  },
  {
   "cell_type": "code",
   "execution_count": 10,
   "id": "e0657954-5057-4084-9496-9b12adfe6ed4",
   "metadata": {},
   "outputs": [],
   "source": [
    "dictFotPlot = {\n",
    "   'total_num_cups' : [],\n",
    "   'probability' : [],\n",
    "}\n",
    "\n",
    "# iterate from 8 to a larger value of total num of cups\n",
    "for total_num_cups in range(8, 25):\n",
    "\n",
    "    # declare number of cup type A (e.g milk in first)\n",
    "    num_cup_type_a = 4\n",
    "    \n",
    "    cup_list = list(range(total_num_cups))\n",
    "    comb_list = list(itertools.combinations(cup_list, 4))\n",
    "\n",
    "    selection = set(random.choice(comb_list))\n",
    "    counts = [len(selection & set(i)) for i in itertools.combinations(cup_list, 4)]\n",
    "\n",
    "    # allowing for 1 wrong cup selection\n",
    "        # overlap = sum of counts from position 3 and 4 of plot 1\n",
    "    overlap = counts.count(4) + counts.count(3)\n",
    "    \n",
    "    # calculate probabilities\n",
    "    probability = overlap / len(comb_list)\n",
    "    \n",
    "    # append probability and total cup data to dict\n",
    "    dictFotPlot['total_num_cups'].append(total_num_cups)\n",
    "    dictFotPlot['probability'].append(probability)"
   ]
  },
  {
   "cell_type": "code",
   "execution_count": 11,
   "id": "e5a4452e-3506-44ad-a756-198807c7fa16",
   "metadata": {},
   "outputs": [
    {
     "name": "stdout",
     "output_type": "stream",
     "text": [
      "A probablity of 1% of maintained when the total number of cups = 22\n"
     ]
    }
   ],
   "source": [
    "# iterate the idx position and val of probability array of dictFotPlot dict\n",
    "for idx, prob in enumerate(dictFotPlot['probability']):\n",
    "    if prob <= 0.01:\n",
    "        # store the total_num_cups associated with the probability\n",
    "        answer = dictFotPlot['total_num_cups'][idx]\n",
    "        # stop iterating when val meets criteria\n",
    "        break  \n",
    "        \n",
    "print(\"A probablity of 1% of maintained when the total number of cups = {}\".format(answer))"
   ]
  },
  {
   "cell_type": "code",
   "execution_count": 12,
   "id": "ccde469f-b975-4dc4-8595-29b2033d11bc",
   "metadata": {},
   "outputs": [
    {
     "data": {
      "image/png": "[encoded data removed]",
      "text/plain": [
       "<Figure size 640x480 with 1 Axes>"
      ]
     },
     "metadata": {},
     "output_type": "display_data"
    }
   ],
   "source": [
    "# plot data\n",
    "ax = sns.barplot(data=dictFotPlot, x='total_num_cups', y='probability')\n",
    "ax.set(xlabel='Total number of cups', ylabel='Probability')\n",
    "ax.set(title='Plot 2')\n",
    "\n",
    "# plot label code adapted from https://stackoverflow.com/a/47718154\n",
    "# iterate idx and vals of x axis labels\n",
    "for i, text in enumerate(ax.get_xticklabels()):\n",
    "    # if text equals total number of cups assocated with <1% prob\n",
    "    if text.get_text() == str(answer):   \n",
    "        # apply label\n",
    "        ax.annotate(\"closest to 1% \\nprobability\",(i, ax.patches[i].get_height()), \n",
    "                    xytext=(0,30), textcoords='offset points', ha=\"center\",\n",
    "                    arrowprops=dict(facecolor='black', shrink=0.05))"
   ]
  }
 ],
 "metadata": {
  "kernelspec": {
   "display_name": "Python 3 (ipykernel)",
   "language": "python",
   "name": "python3"
  },
  "language_info": {
   "codemirror_mode": {
    "name": "ipython",
    "version": 3
   },
   "file_extension": ".py",
   "mimetype": "text/x-python",
   "name": "python",
   "nbconvert_exporter": "python",
   "pygments_lexer": "ipython3",
   "version": "3.8.8"
  }
 },
 "nbformat": 4,
 "nbformat_minor": 5
}
